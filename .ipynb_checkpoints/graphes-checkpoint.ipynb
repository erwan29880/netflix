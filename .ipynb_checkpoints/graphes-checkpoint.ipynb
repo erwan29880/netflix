{
 "cells": [
  {
   "cell_type": "code",
   "execution_count": 65,
   "id": "e2675092",
   "metadata": {},
   "outputs": [],
   "source": [
    "import mysql.connector\n",
    "import numpy as np\n",
    "import pandas as pd\n",
    "import matplotlib.pyplot as plt"
   ]
  },
  {
   "cell_type": "code",
   "execution_count": 57,
   "id": "878005fc",
   "metadata": {},
   "outputs": [],
   "source": [
    "# variables\n",
    "user = 'erwan'\n",
    "host = 'localhost'\n",
    "password = 'root'\n",
    "database = 'netflix'"
   ]
  },
  {
   "cell_type": "code",
   "execution_count": 58,
   "id": "7a959a8b",
   "metadata": {},
   "outputs": [],
   "source": [
    "# connexion à la base\n",
    "conn = mysql.connector.connect(user=user, host=host, password=password, database=database)\n",
    "cursor = conn.cursor()"
   ]
  },
  {
   "cell_type": "code",
   "execution_count": 59,
   "id": "b8305d47",
   "metadata": {},
   "outputs": [],
   "source": [
    "sql = \"\"\"\n",
    "SELECT * FROM shows JOIN allWeeksCountries ON shows.id_show=allWeeksCountries.id_show JOIN countries ON countries.id_country=allWeeksCountries.id_country\n",
    ";\n",
    "\n",
    "\"\"\"\n",
    "cursor.execute(sql)\n",
    "res = cursor.fetchall()"
   ]
  },
  {
   "cell_type": "code",
   "execution_count": 60,
   "id": "7fd7d486",
   "metadata": {},
   "outputs": [
    {
     "data": {
      "text/plain": [
       "RangeIndex(start=0, stop=13, step=1)"
      ]
     },
     "execution_count": 60,
     "metadata": {},
     "output_type": "execute_result"
    }
   ],
   "source": [
    "df = pd.DataFrame(res)\n",
    "df.columns"
   ]
  },
  {
   "cell_type": "code",
   "execution_count": 61,
   "id": "73e95fd8",
   "metadata": {},
   "outputs": [],
   "source": [
    "df = df.drop([0, 4, 5, 8, 9, 10, 12], axis=1)"
   ]
  },
  {
   "cell_type": "code",
   "execution_count": 62,
   "id": "00dc89bf",
   "metadata": {},
   "outputs": [],
   "source": [
    "df = df.rename(columns={1:'categorie', 2:'titre', 3:'saison', 6:'date', 7:'weekly rank', 11:'pays'})"
   ]
  },
  {
   "cell_type": "code",
   "execution_count": 63,
   "id": "25d7543d",
   "metadata": {},
   "outputs": [],
   "source": [
    "df['date'] = pd.to_datetime(df['date'])\n",
    "df = df.set_index('date', drop=True)"
   ]
  },
  {
   "cell_type": "code",
   "execution_count": 74,
   "id": "a5311d55",
   "metadata": {},
   "outputs": [
    {
     "data": {
      "text/html": [
       "<div>\n",
       "<style scoped>\n",
       "    .dataframe tbody tr th:only-of-type {\n",
       "        vertical-align: middle;\n",
       "    }\n",
       "\n",
       "    .dataframe tbody tr th {\n",
       "        vertical-align: top;\n",
       "    }\n",
       "\n",
       "    .dataframe thead th {\n",
       "        text-align: right;\n",
       "    }\n",
       "</style>\n",
       "<table border=\"1\" class=\"dataframe\">\n",
       "  <thead>\n",
       "    <tr style=\"text-align: right;\">\n",
       "      <th></th>\n",
       "      <th>categorie</th>\n",
       "      <th>titre</th>\n",
       "      <th>saison</th>\n",
       "      <th>weekly rank</th>\n",
       "      <th>pays</th>\n",
       "    </tr>\n",
       "    <tr>\n",
       "      <th>date</th>\n",
       "      <th></th>\n",
       "      <th></th>\n",
       "      <th></th>\n",
       "      <th></th>\n",
       "      <th></th>\n",
       "    </tr>\n",
       "  </thead>\n",
       "  <tbody>\n",
       "    <tr>\n",
       "      <th>2022-02-27</th>\n",
       "      <td>Films</td>\n",
       "      <td>Restless</td>\n",
       "      <td></td>\n",
       "      <td>1</td>\n",
       "      <td>Argentina</td>\n",
       "    </tr>\n",
       "    <tr>\n",
       "      <th>2022-02-27</th>\n",
       "      <td>Films</td>\n",
       "      <td>Parallel Mothers</td>\n",
       "      <td></td>\n",
       "      <td>2</td>\n",
       "      <td>Argentina</td>\n",
       "    </tr>\n",
       "    <tr>\n",
       "      <th>2022-02-27</th>\n",
       "      <td>Films</td>\n",
       "      <td>Lost Paradise</td>\n",
       "      <td></td>\n",
       "      <td>3</td>\n",
       "      <td>Argentina</td>\n",
       "    </tr>\n",
       "    <tr>\n",
       "      <th>2022-02-27</th>\n",
       "      <td>Films</td>\n",
       "      <td>Abominable</td>\n",
       "      <td></td>\n",
       "      <td>4</td>\n",
       "      <td>Argentina</td>\n",
       "    </tr>\n",
       "    <tr>\n",
       "      <th>2022-02-27</th>\n",
       "      <td>Films</td>\n",
       "      <td>The Tinder Swindler</td>\n",
       "      <td></td>\n",
       "      <td>5</td>\n",
       "      <td>Argentina</td>\n",
       "    </tr>\n",
       "  </tbody>\n",
       "</table>\n",
       "</div>"
      ],
      "text/plain": [
       "           categorie                titre saison  weekly rank       pays\n",
       "date                                                                    \n",
       "2022-02-27     Films             Restless                   1  Argentina\n",
       "2022-02-27     Films     Parallel Mothers                   2  Argentina\n",
       "2022-02-27     Films        Lost Paradise                   3  Argentina\n",
       "2022-02-27     Films           Abominable                   4  Argentina\n",
       "2022-02-27     Films  The Tinder Swindler                   5  Argentina"
      ]
     },
     "execution_count": 74,
     "metadata": {},
     "output_type": "execute_result"
    }
   ],
   "source": [
    "df.head()"
   ]
  },
  {
   "cell_type": "code",
   "execution_count": null,
   "id": "997a6711",
   "metadata": {},
   "outputs": [],
   "source": [
    "df"
   ]
  },
  {
   "cell_type": "code",
   "execution_count": null,
   "id": "7c7ec623",
   "metadata": {},
   "outputs": [],
   "source": []
  }
 ],
 "metadata": {
  "kernelspec": {
   "display_name": "Python 3 (ipykernel)",
   "language": "python",
   "name": "python3"
  },
  "language_info": {
   "codemirror_mode": {
    "name": "ipython",
    "version": 3
   },
   "file_extension": ".py",
   "mimetype": "text/x-python",
   "name": "python",
   "nbconvert_exporter": "python",
   "pygments_lexer": "ipython3",
   "version": "3.9.7"
  }
 },
 "nbformat": 4,
 "nbformat_minor": 5
}
